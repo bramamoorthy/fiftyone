{
 "cells": [
  {
   "cell_type": "markdown",
   "metadata": {},
   "source": [
    "<div class=\"alert alert-info\">\n",
    "\n",
    "Note\n",
    "    \n",
    "![Voxel51 Icon](../images/voxel51_32x32.png) [View on Voxel51.com](https://voxel51.com/docs/fiftyone/recipes/visualize_errors.html)\n",
    "\n",
    "![Github Icon](../images/GitHub-Mark-32px.png) [View source on GitHub](https://github.com/voxel51/fiftyone/tree/develop/docs/recipes/visualize_errors.ipynb)\n",
    "    \n",
    "</div>"
   ]
  },
  {
   "cell_type": "markdown",
   "metadata": {},
   "source": [
    "# Visualize Errors\n",
    "\n",
    "Visualizing prediction errors in your dataset\n",
    "\n",
    "Create a view of the incorrect predictions and visualize them"
   ]
  },
  {
   "cell_type": "code",
   "execution_count": null,
   "metadata": {},
   "outputs": [],
   "source": []
  }
 ],
 "metadata": {
  "kernelspec": {
   "display_name": "Python 3",
   "language": "python",
   "name": "python3"
  },
  "language_info": {
   "codemirror_mode": {
    "name": "ipython",
    "version": 3
   },
   "file_extension": ".py",
   "mimetype": "text/x-python",
   "name": "python",
   "nbconvert_exporter": "python",
   "pygments_lexer": "ipython3",
   "version": "3.6.9"
  }
 },
 "nbformat": 4,
 "nbformat_minor": 4
}
